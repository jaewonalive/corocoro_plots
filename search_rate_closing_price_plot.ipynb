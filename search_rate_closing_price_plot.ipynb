{
 "cells": [
  {
   "cell_type": "code",
   "execution_count": 1,
   "metadata": {
    "colab": {
     "base_uri": "https://localhost:8080/",
     "height": 125
    },
    "colab_type": "code",
    "id": "r9KV_8mL1cVO",
    "outputId": "fcadced3-b6de-4ca9-dd84-50000726f759"
   },
   "outputs": [
    {
     "name": "stdout",
     "output_type": "stream",
     "text": [
      "Go to this URL in a browser: https://accounts.google.com/o/oauth2/auth?client_id=947318989803-6bn6qk8qdgf4n4g3pfee6491hc0brc4i.apps.googleusercontent.com&redirect_uri=urn%3aietf%3awg%3aoauth%3a2.0%3aoob&response_type=code&scope=email%20https%3a%2f%2fwww.googleapis.com%2fauth%2fdocs.test%20https%3a%2f%2fwww.googleapis.com%2fauth%2fdrive%20https%3a%2f%2fwww.googleapis.com%2fauth%2fdrive.photos.readonly%20https%3a%2f%2fwww.googleapis.com%2fauth%2fpeopleapi.readonly\n",
      "\n",
      "Enter your authorization code:\n",
      "··········\n",
      "Mounted at /content/drive\n"
     ]
    }
   ],
   "source": [
    "from google.colab import drive\n",
    "drive.mount('/content/drive')"
   ]
  },
  {
   "cell_type": "code",
   "execution_count": 2,
   "metadata": {
    "colab": {
     "base_uri": "https://localhost:8080/",
     "height": 34
    },
    "colab_type": "code",
    "id": "-HkrDZyq1mjq",
    "outputId": "346f95ea-ce11-43b7-ebfb-5dc370a41983"
   },
   "outputs": [
    {
     "name": "stdout",
     "output_type": "stream",
     "text": [
      "/content/drive/My Drive/data\n"
     ]
    }
   ],
   "source": [
    "%cd/content/drive/My Drive/data"
   ]
  },
  {
   "cell_type": "code",
   "execution_count": 199,
   "metadata": {},
   "outputs": [],
   "source": [
    "import pandas as pd\n",
    "import urllib\n",
    "import time\n",
    "import re\n",
    "import matplotlib.pyplot as plt\n",
    "\n",
    "    \n",
    "from urllib.request import urlopen\n",
    "from bs4 import BeautifulSoup"
   ]
  },
  {
   "cell_type": "markdown",
   "metadata": {},
   "source": [
    "## 네이버 금융에서 모나리자 종가 데이터 가져오기"
   ]
  },
  {
   "cell_type": "code",
   "execution_count": 200,
   "metadata": {
    "colab": {
     "base_uri": "https://localhost:8080/",
     "height": 403
    },
    "colab_type": "code",
    "id": "Z-60x2Cm0ww2",
    "outputId": "4aa2f228-9485-4026-ff5b-4466aed23028"
   },
   "outputs": [
    {
     "name": "stdout",
     "output_type": "stream",
     "text": [
      "1\n",
      "2020.02.14 4,770\n",
      "2020.02.13 4,705\n",
      "2020.02.12 4,515\n",
      "2020.02.11 4,820\n",
      "2020.02.10 5,310\n",
      "2020.02.07 5,760\n",
      "2020.02.06 5,950\n",
      "2020.02.05 5,910\n",
      "2020.02.04 5,860\n",
      "2020.02.03 6,520\n",
      "2\n",
      "2020.01.31 9,130\n",
      "2020.01.30 7,420\n",
      "2020.01.29 7,400\n",
      "2020.01.28 8,090\n",
      "2020.01.23 6,230\n",
      "2020.01.22 5,980\n",
      "2020.01.21 4,600\n",
      "2020.01.20 4,430\n",
      "2020.01.17 3,980\n",
      "2020.01.16 3,975\n"
     ]
    }
   ],
   "source": [
    "\n",
    "stockItem = '012690'\n",
    "\n",
    "timestamp = []\n",
    "closing_price = []\n",
    "\n",
    "\n",
    "url = 'http://finance.naver.com/item/sise_day.nhn?code='+ stockItem\n",
    "html = urlopen(url) \n",
    "source = BeautifulSoup(html.read(), \"html.parser\")\n",
    " \n",
    "maxPage=source.find_all(\"table\",align=\"center\")\n",
    "\n",
    "                                            \n",
    "for page in range(1, 3):\n",
    "  print (str(page) )\n",
    "  url = 'http://finance.naver.com/item/sise_day.nhn?code=' + stockItem +'&page='+ str(page)\n",
    "  html = urlopen(url)\n",
    "  source = BeautifulSoup(html.read(), \"html.parser\")\n",
    "  srlists=source.find_all(\"tr\")\n",
    "  isCheckNone = None\n",
    "   \n",
    "  if((page % 1) == 0):\n",
    "    time.sleep(1.50)\n",
    " \n",
    "  for i in range(1,len(srlists)-1):\n",
    "   if(srlists[i].span != isCheckNone):\n",
    "     \n",
    "    srlists[i].td.text\n",
    "    print(srlists[i].find_all(\"td\",align=\"center\")[0].text, srlists[i].find_all(\"td\",class_=\"num\")[0].text )\n",
    "    timestamp.append(srlists[i].find_all(\"td\",align=\"center\")[0].text)\n",
    "    closing_price.append(srlists[i].find_all(\"td\",class_=\"num\")[0].text)"
   ]
  },
  {
   "cell_type": "code",
   "execution_count": 201,
   "metadata": {
    "colab": {},
    "colab_type": "code",
    "id": "0Njg0AWk2Kf6"
   },
   "outputs": [],
   "source": [
    "timestamp = pd.Series(timestamp, name = 'timestamp')\n",
    "closing_price = pd.Series(closing_price, name='closing_price')\n",
    "모나리자_df = pd.DataFrame([timestamp, closing_price]).T"
   ]
  },
  {
   "cell_type": "markdown",
   "metadata": {},
   "source": [
    "## '신종 코로나'와 '우한 폐렴' 구글 트렌드 데이터 불러오기"
   ]
  },
  {
   "cell_type": "code",
   "execution_count": 202,
   "metadata": {
    "colab": {},
    "colab_type": "code",
    "id": "13X1saqa4ykv"
   },
   "outputs": [],
   "source": [
    "trend_coro = pd.read_csv('multiTimeline(신종코로나).csv')\n",
    "trend_wuhan = pd.read_csv('multiTimeline(우한폐렴).csv')"
   ]
  },
  {
   "cell_type": "markdown",
   "metadata": {},
   "source": [
    "## 데이터 전처리"
   ]
  },
  {
   "cell_type": "code",
   "execution_count": 203,
   "metadata": {
    "colab": {},
    "colab_type": "code",
    "id": "OgtcLn-L5ilO"
   },
   "outputs": [],
   "source": [
    "trend_coro = trend_coro.iloc[1:,:]\n",
    "trend_coro.rename(columns = {'카테고리: 모든 카테고리' : 'relative_frequency'}, inplace = True)\n",
    "\n",
    "trend_wuhan = trend_wuhan.iloc[1:,:]\n",
    "trend_wuhan.rename(columns = {'카테고리: 모든 카테고리' : 'relative_frequency'}, inplace = True)\n",
    "\n",
    "\n",
    "\n",
    "trend_coro['relative_frequency'] = trend_coro['relative_frequency'].replace(\"<1\", \"0\")\n",
    "trend_wuhan['relative_frequency'] = trend_wuhan['relative_frequency'].replace(\"<1\", \"0\")\n",
    "\n",
    "trend_coro['relative_frequency'] = trend_coro['relative_frequency'].astype(float)\n",
    "trend_wuhan['relative_frequency'] = trend_wuhan['relative_frequency'].astype(float)\n",
    "\n",
    "\n"
   ]
  },
  {
   "cell_type": "code",
   "execution_count": 204,
   "metadata": {
    "colab": {},
    "colab_type": "code",
    "id": "81Orn3IV-NE2"
   },
   "outputs": [],
   "source": [
    "for i in range(모나리자_df['closing_price'].shape[0]):\n",
    "    모나리자_df['closing_price'][i] = re.sub('[,]', '', 모나리자_df['closing_price'][i])"
   ]
  },
  {
   "cell_type": "code",
   "execution_count": 205,
   "metadata": {
    "colab": {},
    "colab_type": "code",
    "id": "Yj0Sz5Wv97Fq"
   },
   "outputs": [],
   "source": [
    "모나리자_df['closing_price'] = 모나리자_df['closing_price'].astype(float)"
   ]
  },
  {
   "cell_type": "code",
   "execution_count": 206,
   "metadata": {
    "colab": {
     "base_uri": "https://localhost:8080/",
     "height": 105
    },
    "colab_type": "code",
    "id": "P0qj3xi0Addj",
    "outputId": "34ee10af-89bf-49ba-c5d8-9e12e09ff2aa"
   },
   "outputs": [
    {
     "name": "stderr",
     "output_type": "stream",
     "text": [
      "c:\\python\\python37\\lib\\site-packages\\ipykernel_launcher.py:2: SettingWithCopyWarning: \n",
      "A value is trying to be set on a copy of a slice from a DataFrame\n",
      "\n",
      "See the caveats in the documentation: http://pandas.pydata.org/pandas-docs/stable/indexing.html#indexing-view-versus-copy\n",
      "  \n"
     ]
    }
   ],
   "source": [
    "for i in range(모나리자_df['timestamp'].shape[0]):\n",
    "    모나리자_df['timestamp'][i] = re.sub('[.]', '-', 모나리자_df['timestamp'][i])"
   ]
  },
  {
   "cell_type": "code",
   "execution_count": 207,
   "metadata": {
    "colab": {
     "base_uri": "https://localhost:8080/",
     "height": 199
    },
    "colab_type": "code",
    "id": "VwqypkLj_2eC",
    "outputId": "55d5491a-c091-45d4-e1fe-6890131693ce"
   },
   "outputs": [
    {
     "data": {
      "text/html": [
       "<div>\n",
       "<style scoped>\n",
       "    .dataframe tbody tr th:only-of-type {\n",
       "        vertical-align: middle;\n",
       "    }\n",
       "\n",
       "    .dataframe tbody tr th {\n",
       "        vertical-align: top;\n",
       "    }\n",
       "\n",
       "    .dataframe thead th {\n",
       "        text-align: right;\n",
       "    }\n",
       "</style>\n",
       "<table border=\"1\" class=\"dataframe\">\n",
       "  <thead>\n",
       "    <tr style=\"text-align: right;\">\n",
       "      <th></th>\n",
       "      <th>timestamp</th>\n",
       "      <th>closing_price</th>\n",
       "    </tr>\n",
       "  </thead>\n",
       "  <tbody>\n",
       "    <tr>\n",
       "      <th>0</th>\n",
       "      <td>2020-02-14</td>\n",
       "      <td>4770.0</td>\n",
       "    </tr>\n",
       "    <tr>\n",
       "      <th>1</th>\n",
       "      <td>2020-02-13</td>\n",
       "      <td>4705.0</td>\n",
       "    </tr>\n",
       "    <tr>\n",
       "      <th>2</th>\n",
       "      <td>2020-02-12</td>\n",
       "      <td>4515.0</td>\n",
       "    </tr>\n",
       "    <tr>\n",
       "      <th>3</th>\n",
       "      <td>2020-02-11</td>\n",
       "      <td>4820.0</td>\n",
       "    </tr>\n",
       "    <tr>\n",
       "      <th>4</th>\n",
       "      <td>2020-02-10</td>\n",
       "      <td>5310.0</td>\n",
       "    </tr>\n",
       "  </tbody>\n",
       "</table>\n",
       "</div>"
      ],
      "text/plain": [
       "    timestamp  closing_price\n",
       "0  2020-02-14         4770.0\n",
       "1  2020-02-13         4705.0\n",
       "2  2020-02-12         4515.0\n",
       "3  2020-02-11         4820.0\n",
       "4  2020-02-10         5310.0"
      ]
     },
     "execution_count": 207,
     "metadata": {},
     "output_type": "execute_result"
    }
   ],
   "source": [
    "모나리자_df.head()"
   ]
  },
  {
   "cell_type": "code",
   "execution_count": 208,
   "metadata": {
    "colab": {
     "base_uri": "https://localhost:8080/",
     "height": 105
    },
    "colab_type": "code",
    "id": "7jEHDiAZ_Kw1",
    "outputId": "bb7aade9-eece-4c66-f544-68d18187bfe8"
   },
   "outputs": [
    {
     "name": "stderr",
     "output_type": "stream",
     "text": [
      "c:\\python\\python37\\lib\\site-packages\\ipykernel_launcher.py:2: SettingWithCopyWarning: \n",
      "A value is trying to be set on a copy of a slice from a DataFrame\n",
      "\n",
      "See the caveats in the documentation: http://pandas.pydata.org/pandas-docs/stable/indexing.html#indexing-view-versus-copy\n",
      "  \n"
     ]
    }
   ],
   "source": [
    "for i in range(모나리자_df['timestamp'].shape[0]):\n",
    "    모나리자_df['timestamp'][i] = 모나리자_df['timestamp'][i][-5:]"
   ]
  },
  {
   "cell_type": "code",
   "execution_count": 209,
   "metadata": {
    "colab": {
     "base_uri": "https://localhost:8080/",
     "height": 654
    },
    "colab_type": "code",
    "id": "657oJpKwAD6T",
    "outputId": "0dbd4cac-f5c1-4812-de1f-3cd77742269c"
   },
   "outputs": [
    {
     "data": {
      "text/html": [
       "<div>\n",
       "<style scoped>\n",
       "    .dataframe tbody tr th:only-of-type {\n",
       "        vertical-align: middle;\n",
       "    }\n",
       "\n",
       "    .dataframe tbody tr th {\n",
       "        vertical-align: top;\n",
       "    }\n",
       "\n",
       "    .dataframe thead th {\n",
       "        text-align: right;\n",
       "    }\n",
       "</style>\n",
       "<table border=\"1\" class=\"dataframe\">\n",
       "  <thead>\n",
       "    <tr style=\"text-align: right;\">\n",
       "      <th></th>\n",
       "      <th>timestamp</th>\n",
       "      <th>closing_price</th>\n",
       "    </tr>\n",
       "  </thead>\n",
       "  <tbody>\n",
       "    <tr>\n",
       "      <th>0</th>\n",
       "      <td>02-14</td>\n",
       "      <td>4770.0</td>\n",
       "    </tr>\n",
       "    <tr>\n",
       "      <th>1</th>\n",
       "      <td>02-13</td>\n",
       "      <td>4705.0</td>\n",
       "    </tr>\n",
       "    <tr>\n",
       "      <th>2</th>\n",
       "      <td>02-12</td>\n",
       "      <td>4515.0</td>\n",
       "    </tr>\n",
       "    <tr>\n",
       "      <th>3</th>\n",
       "      <td>02-11</td>\n",
       "      <td>4820.0</td>\n",
       "    </tr>\n",
       "    <tr>\n",
       "      <th>4</th>\n",
       "      <td>02-10</td>\n",
       "      <td>5310.0</td>\n",
       "    </tr>\n",
       "    <tr>\n",
       "      <th>5</th>\n",
       "      <td>02-07</td>\n",
       "      <td>5760.0</td>\n",
       "    </tr>\n",
       "    <tr>\n",
       "      <th>6</th>\n",
       "      <td>02-06</td>\n",
       "      <td>5950.0</td>\n",
       "    </tr>\n",
       "    <tr>\n",
       "      <th>7</th>\n",
       "      <td>02-05</td>\n",
       "      <td>5910.0</td>\n",
       "    </tr>\n",
       "    <tr>\n",
       "      <th>8</th>\n",
       "      <td>02-04</td>\n",
       "      <td>5860.0</td>\n",
       "    </tr>\n",
       "    <tr>\n",
       "      <th>9</th>\n",
       "      <td>02-03</td>\n",
       "      <td>6520.0</td>\n",
       "    </tr>\n",
       "    <tr>\n",
       "      <th>10</th>\n",
       "      <td>01-31</td>\n",
       "      <td>9130.0</td>\n",
       "    </tr>\n",
       "    <tr>\n",
       "      <th>11</th>\n",
       "      <td>01-30</td>\n",
       "      <td>7420.0</td>\n",
       "    </tr>\n",
       "    <tr>\n",
       "      <th>12</th>\n",
       "      <td>01-29</td>\n",
       "      <td>7400.0</td>\n",
       "    </tr>\n",
       "    <tr>\n",
       "      <th>13</th>\n",
       "      <td>01-28</td>\n",
       "      <td>8090.0</td>\n",
       "    </tr>\n",
       "    <tr>\n",
       "      <th>14</th>\n",
       "      <td>01-23</td>\n",
       "      <td>6230.0</td>\n",
       "    </tr>\n",
       "    <tr>\n",
       "      <th>15</th>\n",
       "      <td>01-22</td>\n",
       "      <td>5980.0</td>\n",
       "    </tr>\n",
       "    <tr>\n",
       "      <th>16</th>\n",
       "      <td>01-21</td>\n",
       "      <td>4600.0</td>\n",
       "    </tr>\n",
       "    <tr>\n",
       "      <th>17</th>\n",
       "      <td>01-20</td>\n",
       "      <td>4430.0</td>\n",
       "    </tr>\n",
       "    <tr>\n",
       "      <th>18</th>\n",
       "      <td>01-17</td>\n",
       "      <td>3980.0</td>\n",
       "    </tr>\n",
       "    <tr>\n",
       "      <th>19</th>\n",
       "      <td>01-16</td>\n",
       "      <td>3975.0</td>\n",
       "    </tr>\n",
       "  </tbody>\n",
       "</table>\n",
       "</div>"
      ],
      "text/plain": [
       "   timestamp  closing_price\n",
       "0      02-14         4770.0\n",
       "1      02-13         4705.0\n",
       "2      02-12         4515.0\n",
       "3      02-11         4820.0\n",
       "4      02-10         5310.0\n",
       "5      02-07         5760.0\n",
       "6      02-06         5950.0\n",
       "7      02-05         5910.0\n",
       "8      02-04         5860.0\n",
       "9      02-03         6520.0\n",
       "10     01-31         9130.0\n",
       "11     01-30         7420.0\n",
       "12     01-29         7400.0\n",
       "13     01-28         8090.0\n",
       "14     01-23         6230.0\n",
       "15     01-22         5980.0\n",
       "16     01-21         4600.0\n",
       "17     01-20         4430.0\n",
       "18     01-17         3980.0\n",
       "19     01-16         3975.0"
      ]
     },
     "execution_count": 209,
     "metadata": {},
     "output_type": "execute_result"
    }
   ],
   "source": [
    "모나리자_df"
   ]
  },
  {
   "cell_type": "code",
   "execution_count": 210,
   "metadata": {
    "colab": {},
    "colab_type": "code",
    "id": "luEx5Qx6BHDt"
   },
   "outputs": [],
   "source": [
    "모나리자_df.sort_values(by='timestamp', inplace = True)\n",
    "모나리자_df.set_index('timestamp', inplace = True)"
   ]
  },
  {
   "cell_type": "code",
   "execution_count": 211,
   "metadata": {
    "colab": {
     "base_uri": "https://localhost:8080/",
     "height": 199
    },
    "colab_type": "code",
    "id": "zd7FJhfcBjmU",
    "outputId": "e4568f5e-7c04-4d49-dd1c-b4540ae6a582"
   },
   "outputs": [
    {
     "data": {
      "text/html": [
       "<div>\n",
       "<style scoped>\n",
       "    .dataframe tbody tr th:only-of-type {\n",
       "        vertical-align: middle;\n",
       "    }\n",
       "\n",
       "    .dataframe tbody tr th {\n",
       "        vertical-align: top;\n",
       "    }\n",
       "\n",
       "    .dataframe thead th {\n",
       "        text-align: right;\n",
       "    }\n",
       "</style>\n",
       "<table border=\"1\" class=\"dataframe\">\n",
       "  <thead>\n",
       "    <tr style=\"text-align: right;\">\n",
       "      <th></th>\n",
       "      <th>relative_frequency</th>\n",
       "    </tr>\n",
       "  </thead>\n",
       "  <tbody>\n",
       "    <tr>\n",
       "      <th>2020-01-15</th>\n",
       "      <td>0.0</td>\n",
       "    </tr>\n",
       "    <tr>\n",
       "      <th>2020-01-16</th>\n",
       "      <td>0.0</td>\n",
       "    </tr>\n",
       "    <tr>\n",
       "      <th>2020-01-17</th>\n",
       "      <td>2.0</td>\n",
       "    </tr>\n",
       "    <tr>\n",
       "      <th>2020-01-18</th>\n",
       "      <td>2.0</td>\n",
       "    </tr>\n",
       "    <tr>\n",
       "      <th>2020-01-19</th>\n",
       "      <td>0.0</td>\n",
       "    </tr>\n",
       "  </tbody>\n",
       "</table>\n",
       "</div>"
      ],
      "text/plain": [
       "            relative_frequency\n",
       "2020-01-15                 0.0\n",
       "2020-01-16                 0.0\n",
       "2020-01-17                 2.0\n",
       "2020-01-18                 2.0\n",
       "2020-01-19                 0.0"
      ]
     },
     "execution_count": 211,
     "metadata": {},
     "output_type": "execute_result"
    }
   ],
   "source": [
    "trend_coro.head()"
   ]
  },
  {
   "cell_type": "code",
   "execution_count": 212,
   "metadata": {
    "colab": {},
    "colab_type": "code",
    "id": "tFIQ0TKMApPt"
   },
   "outputs": [
    {
     "name": "stderr",
     "output_type": "stream",
     "text": [
      "c:\\python\\python37\\lib\\site-packages\\ipykernel_launcher.py:5: SettingWithCopyWarning: \n",
      "A value is trying to be set on a copy of a slice from a DataFrame\n",
      "\n",
      "See the caveats in the documentation: http://pandas.pydata.org/pandas-docs/stable/indexing.html#indexing-view-versus-copy\n",
      "  \"\"\"\n"
     ]
    }
   ],
   "source": [
    "trend_coro.reset_index(inplace= True)\n",
    "trend_coro.rename(columns = {'index' : 'timestamp'}, inplace = True)\n",
    "\n",
    "for i in range(trend_coro['timestamp'].shape[0]):\n",
    "      trend_coro['timestamp'][i] = trend_coro['timestamp'][i][-5:]\n",
    "        \n",
    "trend_coro.set_index('timestamp', inplace= True)"
   ]
  },
  {
   "cell_type": "code",
   "execution_count": 213,
   "metadata": {
    "colab": {
     "base_uri": "https://localhost:8080/",
     "height": 230
    },
    "colab_type": "code",
    "id": "2pBQqZNpBOL8",
    "outputId": "518ed6eb-26a4-402d-f38a-c1255ea9036a"
   },
   "outputs": [
    {
     "data": {
      "text/html": [
       "<div>\n",
       "<style scoped>\n",
       "    .dataframe tbody tr th:only-of-type {\n",
       "        vertical-align: middle;\n",
       "    }\n",
       "\n",
       "    .dataframe tbody tr th {\n",
       "        vertical-align: top;\n",
       "    }\n",
       "\n",
       "    .dataframe thead th {\n",
       "        text-align: right;\n",
       "    }\n",
       "</style>\n",
       "<table border=\"1\" class=\"dataframe\">\n",
       "  <thead>\n",
       "    <tr style=\"text-align: right;\">\n",
       "      <th></th>\n",
       "      <th>relative_frequency</th>\n",
       "    </tr>\n",
       "    <tr>\n",
       "      <th>timestamp</th>\n",
       "      <th></th>\n",
       "    </tr>\n",
       "  </thead>\n",
       "  <tbody>\n",
       "    <tr>\n",
       "      <th>01-15</th>\n",
       "      <td>0.0</td>\n",
       "    </tr>\n",
       "    <tr>\n",
       "      <th>01-16</th>\n",
       "      <td>0.0</td>\n",
       "    </tr>\n",
       "    <tr>\n",
       "      <th>01-17</th>\n",
       "      <td>2.0</td>\n",
       "    </tr>\n",
       "    <tr>\n",
       "      <th>01-18</th>\n",
       "      <td>2.0</td>\n",
       "    </tr>\n",
       "    <tr>\n",
       "      <th>01-19</th>\n",
       "      <td>0.0</td>\n",
       "    </tr>\n",
       "  </tbody>\n",
       "</table>\n",
       "</div>"
      ],
      "text/plain": [
       "           relative_frequency\n",
       "timestamp                    \n",
       "01-15                     0.0\n",
       "01-16                     0.0\n",
       "01-17                     2.0\n",
       "01-18                     2.0\n",
       "01-19                     0.0"
      ]
     },
     "execution_count": 213,
     "metadata": {},
     "output_type": "execute_result"
    }
   ],
   "source": [
    "trend_coro.head()"
   ]
  },
  {
   "cell_type": "code",
   "execution_count": 214,
   "metadata": {
    "colab": {
     "base_uri": "https://localhost:8080/",
     "height": 177
    },
    "colab_type": "code",
    "id": "Y7C2E0mTBWJg",
    "outputId": "2f8fbb9f-2ea2-4f21-815b-a768980dee61"
   },
   "outputs": [
    {
     "name": "stderr",
     "output_type": "stream",
     "text": [
      "c:\\python\\python37\\lib\\site-packages\\ipykernel_launcher.py:1: FutureWarning: Sorting because non-concatenation axis is not aligned. A future version\n",
      "of pandas will change to not sort by default.\n",
      "\n",
      "To accept the future behavior, pass 'sort=False'.\n",
      "\n",
      "To retain the current behavior and silence the warning, pass 'sort=True'.\n",
      "\n",
      "  \"\"\"Entry point for launching an IPython kernel.\n"
     ]
    }
   ],
   "source": [
    "df = pd.concat([trend_coro, 모나리자_df], axis=1)"
   ]
  },
  {
   "cell_type": "code",
   "execution_count": 215,
   "metadata": {
    "colab": {},
    "colab_type": "code",
    "id": "mHA6_-t-KWr3"
   },
   "outputs": [],
   "source": [
    "inp_df = pd.DataFrame({'timestamp' : ['01-17', '01-18', '01-19', '01-20', '01-23', '01-24', '01-25', '01-26', '01-27', '01-28', '01-31', '02-01', '02-02', '02-03', '02-07', '02-08', '02-09', '02-10'], 'est_closing_price': [3980, 4130, 4280, 4430, 6230,  6602, 6974, 7346, 7718, 8090, 9130, 8260, 7390, 6520, 5760, 5610, 5460, 5310]})\n",
    "inp_df.set_index('timestamp', inplace = True)"
   ]
  },
  {
   "cell_type": "code",
   "execution_count": 216,
   "metadata": {
    "colab": {
     "base_uri": "https://localhost:8080/",
     "height": 177
    },
    "colab_type": "code",
    "id": "oYvIaPktLE0U",
    "outputId": "8e27101c-f247-4ae9-ea01-30beb3c67cf3"
   },
   "outputs": [
    {
     "name": "stderr",
     "output_type": "stream",
     "text": [
      "c:\\python\\python37\\lib\\site-packages\\ipykernel_launcher.py:1: FutureWarning: Sorting because non-concatenation axis is not aligned. A future version\n",
      "of pandas will change to not sort by default.\n",
      "\n",
      "To accept the future behavior, pass 'sort=False'.\n",
      "\n",
      "To retain the current behavior and silence the warning, pass 'sort=True'.\n",
      "\n",
      "  \"\"\"Entry point for launching an IPython kernel.\n"
     ]
    }
   ],
   "source": [
    "df = pd.concat([df, inp_df], axis=1)"
   ]
  },
  {
   "cell_type": "code",
   "execution_count": 217,
   "metadata": {},
   "outputs": [],
   "source": [
    "df = df[:-2]"
   ]
  },
  {
   "cell_type": "markdown",
   "metadata": {},
   "source": [
    "## '신종 코로나' 트렌드와 '모나리자 종가' 겹쳐 그래프 그리기"
   ]
  },
  {
   "cell_type": "code",
   "execution_count": 218,
   "metadata": {
    "colab": {
     "base_uri": "https://localhost:8080/",
     "height": 413
    },
    "colab_type": "code",
    "id": "OYLHDJod6z68",
    "outputId": "682cf008-e0c5-44ff-b407-79cc00ea696b"
   },
   "outputs": [
    {
     "data": {
      "image/png": "[encoded data removed]",
      "text/plain": [
       "<Figure size 864x432 with 2 Axes>"
      ]
     },
     "metadata": {
      "needs_background": "light"
     },
     "output_type": "display_data"
    }
   ],
   "source": [
    "fig, ax1 = plt.subplots()\n",
    "\n",
    "plt.rcParams[\"figure.figsize\"] = (12,6)\n",
    "plt.xticks(rotation=315)\n",
    "plt.grid(True)\n",
    "ax1.plot(df['relative_frequency'], color='red', label = 'search rate for novel corona')\n",
    "plt.legend(loc = 'upper left')\n",
    "\n",
    "ax2 = ax1.twinx()\n",
    "ax2.plot(df['closing_price'], color = 'blue', label = 'closing price for monalisa')\n",
    "ax2.plot(df['est_closing_price'], linestyle='--', color = 'blue', label = 'interpolated closing price')\n",
    "\n",
    "\n",
    "bbox_props = dict(boxstyle=\"round,pad=0.5\", fc=\"w\", ec=\"k\", lw=2)\n",
    "ax2.annotate('local minimum',\n",
    "            xy=(0.5, 0.52),\n",
    "            xycoords='axes fraction',\n",
    "            xytext=(0.35, 0.52),\n",
    "            bbox=bbox_props,\n",
    "            arrowprops=\n",
    "                dict(facecolor='black', shrink=0.5),\n",
    "                horizontalalignment='left',\n",
    "                verticalalignment='center')\n",
    "\n",
    "\n",
    "ax2.annotate('maximum',\n",
    "            xy=(0.56, 0.95),\n",
    "            xycoords='axes fraction',\n",
    "            xytext=(0.45 ,0.95),\n",
    "            bbox=bbox_props,\n",
    "            arrowprops=\n",
    "                dict(facecolor='black', shrink=0.5),\n",
    "                horizontalalignment='left',\n",
    "                verticalalignment='center')\n",
    "\n",
    "\n",
    "plt.legend()\n",
    "plt.savefig('coro_monalisa.jpg')"
   ]
  },
  {
   "cell_type": "markdown",
   "metadata": {},
   "source": [
    "## '우한 폐렴' 구글 트렌드 데이터 전처리 "
   ]
  },
  {
   "cell_type": "code",
   "execution_count": 219,
   "metadata": {
    "colab": {
     "base_uri": "https://localhost:8080/",
     "height": 105
    },
    "colab_type": "code",
    "id": "1nj0HNiZYLPP",
    "outputId": "653ca669-25c1-4853-f9f0-556dd0c95f8d"
   },
   "outputs": [
    {
     "name": "stderr",
     "output_type": "stream",
     "text": [
      "c:\\python\\python37\\lib\\site-packages\\ipykernel_launcher.py:4: SettingWithCopyWarning: \n",
      "A value is trying to be set on a copy of a slice from a DataFrame\n",
      "\n",
      "See the caveats in the documentation: http://pandas.pydata.org/pandas-docs/stable/indexing.html#indexing-view-versus-copy\n",
      "  after removing the cwd from sys.path.\n"
     ]
    }
   ],
   "source": [
    "trend_wuhan.reset_index(inplace= True)\n",
    "trend_wuhan.rename(columns = {'index' : 'timestamp'}, inplace = True)\n",
    "for i in range(trend_wuhan['timestamp'].shape[0]):\n",
    "      trend_wuhan['timestamp'][i] = trend_wuhan['timestamp'][i][-5:]\n",
    "\n",
    "trend_wuhan.set_index('timestamp', inplace= True)"
   ]
  },
  {
   "cell_type": "code",
   "execution_count": 220,
   "metadata": {
    "colab": {
     "base_uri": "https://localhost:8080/",
     "height": 318
    },
    "colab_type": "code",
    "id": "cnELV54gYLs6",
    "outputId": "4b744a99-9d39-416d-db1c-f43c80115443"
   },
   "outputs": [
    {
     "name": "stderr",
     "output_type": "stream",
     "text": [
      "c:\\python\\python37\\lib\\site-packages\\ipykernel_launcher.py:1: FutureWarning: Sorting because non-concatenation axis is not aligned. A future version\n",
      "of pandas will change to not sort by default.\n",
      "\n",
      "To accept the future behavior, pass 'sort=False'.\n",
      "\n",
      "To retain the current behavior and silence the warning, pass 'sort=True'.\n",
      "\n",
      "  \"\"\"Entry point for launching an IPython kernel.\n",
      "c:\\python\\python37\\lib\\site-packages\\ipykernel_launcher.py:2: FutureWarning: Sorting because non-concatenation axis is not aligned. A future version\n",
      "of pandas will change to not sort by default.\n",
      "\n",
      "To accept the future behavior, pass 'sort=False'.\n",
      "\n",
      "To retain the current behavior and silence the warning, pass 'sort=True'.\n",
      "\n",
      "  \n"
     ]
    }
   ],
   "source": [
    "df2 = pd.concat([trend_wuhan, 모나리자_df], axis=1)\n",
    "df2 = pd.concat([df2, inp_df], axis=1)"
   ]
  },
  {
   "cell_type": "code",
   "execution_count": 221,
   "metadata": {},
   "outputs": [],
   "source": [
    "df2 = df2[:-2]"
   ]
  },
  {
   "cell_type": "markdown",
   "metadata": {},
   "source": [
    "## '우한 폐렴' 트렌드와 '모나리자 종가' 겹쳐 그래프 그리기"
   ]
  },
  {
   "cell_type": "code",
   "execution_count": 222,
   "metadata": {
    "colab": {
     "base_uri": "https://localhost:8080/",
     "height": 1000
    },
    "colab_type": "code",
    "id": "c0c-sA9BYL__",
    "outputId": "f52b0f28-4344-454f-aa64-4dfbc1eb05e2"
   },
   "outputs": [
    {
     "data": {
      "image/png": "[encoded data removed]",
      "text/plain": [
       "<Figure size 864x432 with 2 Axes>"
      ]
     },
     "metadata": {
      "needs_background": "light"
     },
     "output_type": "display_data"
    }
   ],
   "source": [
    "fig, ax1 = plt.subplots()\n",
    "\n",
    "plt.rcParams[\"figure.figsize\"] = (12,6)\n",
    "plt.xticks(rotation=315)\n",
    "plt.grid(True)\n",
    "ax1.plot(df2['relative_frequency'], color='red', label = 'search rate for wuhan pneumonia')\n",
    "plt.legend(loc = 'upper left')\n",
    "\n",
    "ax2 = ax1.twinx()\n",
    "ax2.plot(df2['closing_price'], color = 'blue', label = 'closing price for monalisa')\n",
    "ax2.plot(df2['est_closing_price'], linestyle='--', color = 'blue', label = 'interpolated closing price')\n",
    "\n",
    "bbox_props = dict(boxstyle=\"round,pad=0.5\", fc=\"w\", ec=\"k\", lw=2)\n",
    "ax2.annotate('local minimum',\n",
    "            xy=(0.53, 0.48),\n",
    "            xycoords='axes fraction',\n",
    "            xytext=(0.38, 0.48),\n",
    "            bbox=bbox_props,\n",
    "            arrowprops=\n",
    "                dict(facecolor='black', shrink=0.5),\n",
    "                horizontalalignment='left',\n",
    "                verticalalignment='center')\n",
    "\n",
    "ax2.annotate('maximum',\n",
    "            xy=(0.43, 0.95),\n",
    "            xycoords='axes fraction',\n",
    "            xytext=(0.32 ,0.95),\n",
    "            bbox=bbox_props,\n",
    "            arrowprops=\n",
    "                dict(facecolor='black', shrink=0.5),\n",
    "                horizontalalignment='left',\n",
    "                verticalalignment='center')\n",
    "\n",
    "\n",
    "plt.legend()\n",
    "plt.savefig('wuhan_monalisa.jpg')"
   ]
  },
  {
   "cell_type": "code",
   "execution_count": null,
   "metadata": {},
   "outputs": [],
   "source": []
  }
 ],
 "metadata": {
  "colab": {
   "collapsed_sections": [],
   "name": "Untitled9.ipynb",
   "provenance": []
  },
  "kernelspec": {
   "display_name": "Python 3",
   "language": "python",
   "name": "python3"
  },
  "language_info": {
   "codemirror_mode": {
    "name": "ipython",
    "version": 3
   },
   "file_extension": ".py",
   "mimetype": "text/x-python",
   "name": "python",
   "nbconvert_exporter": "python",
   "pygments_lexer": "ipython3",
   "version": "3.7.3"
  }
 },
 "nbformat": 4,
 "nbformat_minor": 1
}
